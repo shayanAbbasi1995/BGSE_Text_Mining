{
  "nbformat": 4,
  "nbformat_minor": 0,
  "metadata": {
    "kernelspec": {
      "display_name": "Python 3",
      "language": "python",
      "name": "python3"
    },
    "language_info": {
      "codemirror_mode": {
        "name": "ipython",
        "version": 3
      },
      "file_extension": ".py",
      "mimetype": "text/x-python",
      "name": "python",
      "nbconvert_exporter": "python",
      "pygments_lexer": "ipython3",
      "version": "3.8.2"
    },
    "name": "assignment.ipynb",
    "colab": {
      "name": "Copy of assignment.ipynb",
      "provenance": [],
      "collapsed_sections": []
    }
  },
  "cells": [
    {
      "cell_type": "markdown",
      "metadata": {
        "id": "qg10C8IWwgHf"
      },
      "source": [
        "# Working with Text: Assignment\n",
        "\n",
        "The assignment consists of 3 questions you will need to answer. You will be creating, from scratch, something akin to the `TfidfVectorizer` in `sklearn`. You can reuse any functions from the lecture notebook if you want, but you don't need them.\n",
        "\n"
      ]
    },
    {
      "cell_type": "markdown",
      "metadata": {
        "id": "-GywvS1w-fJW"
      },
      "source": [
        "# Data & defining functions "
      ]
    },
    {
      "cell_type": "code",
      "metadata": {
        "id": "18pk_WRFwgHm"
      },
      "source": [
        "docs = ['People who see ghosts', #Query guy\n",
        "\n",
        "        '\"I dont believe people who see ghosts\", said Mannie, before spitting into the wind and riding his bike down the street at top speed. He then went home and ate peanut-butter and jelly sandwiches all day. Mannie really liked peanut-butter and jelly sandwiches. He ate them so much that his poor mother had to purchase a new jar of peanut butter every afternoon.',\n",
        "\n",
        "        'People see incredible things. One time I saw some people talking about things they were seeing, and those people were so much fun. They saw clouds and they saw airplanes. They saw dirt and they saw worms. Can you believe the amount of seeing done by these people? People are the best.',\n",
        "\n",
        "        'This is an article about a circus. A Circus is where people go to see other people who perform great things. Circuses also have elephants and tigers, which generally get a big woop from the crowd.',\n",
        "\n",
        "        'Lots of people have come down with Coronavirus. You can see the latest numbers and follow our updates on the pandemic below. Please, stay safe.',\n",
        "\n",
        "        'Goats are lovely creatures. Many people love goats. People who love goats love seeing them play in the fields.',\n",
        "\n",
        "        'We have collected a report of people in our community seeing ghosts. Each resident was asked \"how many ghosts have you seen?\", \"describe the last ghost you saw\", and \"tell us about your mother.\" Afterwards, we compared the ghost reports between the different individuals, and assessed whether or not they were actually seeing these apparitions.']\n",
        "        #target guy\n"
      ],
      "execution_count": null,
      "outputs": []
    },
    {
      "cell_type": "code",
      "metadata": {
        "id": "AGy39TUu-7nZ"
      },
      "source": [
        "#This stop word is provided by sebleier at https://gist.github.com/sebleier/554280\n",
        "stop_words = [\"i\", \"me\", \"my\", \"myself\", \"we\", \"our\", \"ours\", \"ourselves\", \"you\", \"your\", \"yours\", \"yourself\", \"yourselves\", \"he\", \"him\", \"his\", \"himself\", \"she\", \"her\", \"hers\", \"herself\", \"it\", \"its\", \"itself\", \"they\", \"them\", \"their\", \"theirs\", \"themselves\", \"what\", \"which\", \"who\", \"whom\", \"this\", \"that\", \"these\", \"those\", \"am\", \"is\", \"are\", \"was\", \"were\", \"be\", \"been\", \"being\", \"have\", \"has\", \"had\", \"having\", \"do\", \"does\", \"did\", \"doing\", \"a\", \"an\", \"the\", \"and\", \"but\", \"if\", \"or\", \"because\", \"as\", \"until\", \"while\", \"of\", \"at\", \"by\", \"for\", \"with\", \"about\", \"against\", \"between\", \"into\", \"through\", \"during\", \"before\", \"after\", \"above\", \"below\", \"to\", \"from\", \"up\", \"down\", \"in\", \"out\", \"on\", \"off\", \"over\", \"under\", \"again\", \"further\", \"then\", \"once\", \"here\", \"there\", \"when\", \"where\", \"why\", \"how\", \"all\", \"any\", \"both\", \"each\", \"few\", \"more\", \"most\", \"other\", \"some\", \"such\", \"no\", \"nor\", \"not\", \"only\", \"own\", \"same\", \"so\", \"than\", \"too\", \"very\", \"s\", \"t\", \"can\", \"will\", \"just\", \"don\", \"should\", \"now\"]\n",
        "#This stop word is made by removing the most frequent and rare words that seemed unrelevent.\n",
        "#stop_words = ['the', 'and', 'a', 'of', 'about', 'i', 'his', 'he', 'them', 'so', 'much', 'can' , 'are', 'is', 'our', 'in', 'we', 'dont', 'into', 'at', 'then', 'all', 'new', 'not', 'or', 'us', 'your', 'last', 'each', 'on', 'with', 'lot', 'also', 'an', 'by', 'other', 'this', 'done', 'those', 'some']"
      ],
      "execution_count": null,
      "outputs": []
    },
    {
      "cell_type": "code",
      "metadata": {
        "id": "HZFH_p_iwibz"
      },
      "source": [
        "# I used re.sub for only preprocessing.\n",
        "from re import sub\n",
        "def preprocess(doc, t = 'list'):\n",
        "  from nltk.stem.snowball import SnowballStemmer\n",
        "  stemmer = SnowballStemmer('english')\n",
        "  #Stop word for Eng by Alireza\n",
        "\n",
        "  if t == 'list':\n",
        "    for i in range(len(doc)):\n",
        "      doc[i] = sub('[^\\w|\\s]', '',doc[i])\n",
        "      doc[i] = sub('\\s+', ' ',doc[i])\n",
        "      doc[i] = doc[i].casefold()\n",
        "      for j in range(len(doc[i].split(' '))):\n",
        "        doc[i] = ' '.join([stemmer.stem(word) for word in doc[i].split(' ')])\n",
        "      for j in range(len(doc[i].split(' '))):\n",
        "        doc[i] = ' '.join([word for word in doc[i].split(' ') if word not in stop_words])\n",
        "  if t == 'string':\n",
        "    doc = sub('[^\\w|\\s]', '',doc)\n",
        "    doc = sub('\\s+', ' ',doc)\n",
        "    doc = doc.casefold()\n",
        "    for j in range(len(doc.split(' '))):\n",
        "      doc = ' '.join([stemmer.stem(word) for word in doc.split(' ')])\n",
        "  return doc"
      ],
      "execution_count": null,
      "outputs": []
    },
    {
      "cell_type": "code",
      "metadata": {
        "id": "r85OiiIvIhqu"
      },
      "source": [
        "def ecu_cal(vec):\n",
        "  n = vec.shape[0]\n",
        "  euc_dist = np.zeros((n,n))\n",
        "  for i in range(n):\n",
        "    for j in range(n):\n",
        "      euc_dist[i][j] = np.linalg.norm(vec[i,:] - vec[j,:])\n",
        "  return euc_dist\n",
        "\n",
        "def cosi_cal(vec):\n",
        "  n = vec.shape[0]\n",
        "  cosi_dist = np.zeros((n,n))\n",
        "  for i in range(n):\n",
        "    for j in range(n):\n",
        "      cosi_dist[i][j] = 1 - np.dot(vec[i,:], vec[j,:])\n",
        "  return cosi_dist"
      ],
      "execution_count": null,
      "outputs": []
    },
    {
      "cell_type": "code",
      "metadata": {
        "id": "l4LxhqjjwgHn"
      },
      "source": [
        "def pairwise_distance(X):\n",
        "    N = X.shape[0]\n",
        "    dists = np.zeros((N, N))\n",
        "    for i, a in enumerate(X):\n",
        "        for j, b in enumerate(X):\n",
        "            dists[i, j] = np.linalg.norm(a - b)\n",
        "\n",
        "    return dists\n",
        "\n",
        "def get_score(vecs):\n",
        "    dists = pairwise_distance(vecs)\n",
        "    mxidx = np.argmin(dists[0][1:-1]) + 1\n",
        "    next_best = np.linalg.norm(vecs[mxidx] - vecs[0]) \n",
        "    target = np.linalg.norm(vecs[-1] - vecs[0])\n",
        "    score = next_best / target\n",
        "    print('SCORE: ', score)\n",
        "\n",
        "# Use get_score to check the score for assignment 3!"
      ],
      "execution_count": null,
      "outputs": []
    },
    {
      "cell_type": "code",
      "metadata": {
        "id": "7VO9ffbdwgHl"
      },
      "source": [
        "# ###################################################################\n",
        "#                          ASSIGNMENT\n",
        "# ###################################################################\n",
        "#\n",
        "# Create a class (or function), called \"Vectorizer\" (\"vectorizer\").\n",
        "# \n",
        "# It should take a list of strings (documents) and turn it into a\n",
        "# 2D Numpy Array representing the documents as vectors (rows are\n",
        "# documents). You have flexibility in how exactly they are represented,\n",
        "# but it should be based on a basic term-frequency vector. \n",
        "#\n",
        "# The vectors should be \"normalized\" such that each row has\n",
        "# an l2 norm of 1.\n",
        "#\n",
        "# NOTE: You are implementing this in pure Python/Numpy\n",
        "\n",
        "import numpy as np\n",
        "\n",
        "def count_words(doc_lst):\n",
        "  ult_dic = {}\n",
        "  doc_count = []\n",
        "  term_bin_count = {}\n",
        "\n",
        "  for i in doc_lst:\n",
        "    words = i.split(' ')\n",
        "    for word in words:\n",
        "      if word in ult_dic.keys():\n",
        "        ult_dic[word] += 1\n",
        "      else:\n",
        "        ult_dic[word] = 1\n",
        "  \n",
        "  for m in range(len(doc_lst)):\n",
        "    temp_dic = {}\n",
        "    for n in doc_lst[m].split(' '):\n",
        "      if n in temp_dic.keys():\n",
        "        temp_dic[n] += 1\n",
        "      else:\n",
        "        temp_dic[n] = 1\n",
        "    doc_count.append(temp_dic)\n",
        "\n",
        "  for k in ult_dic.keys():\n",
        "    term_bin_count[k] = 0\n",
        "    for s in doc_lst:\n",
        "      if k in s:\n",
        "        term_bin_count[k] += 1\n",
        "\n",
        "  return ult_dic, doc_count, term_bin_count\n",
        "\n",
        "\n",
        "def tf(d_count, d_ult):\n",
        "  vec = np.zeros((len(d_count), len(d_ult.keys())))   #Rows are doc and columns are words\n",
        "  for i in range(len(d_count)):\n",
        "    for j in range(len(d_ult.keys())):\n",
        "      if list(d_ult.keys())[j] in d_count[i].keys():\n",
        "        vec[i][j] = d_count[i][list(d_ult.keys())[j]]/sum(d_count[i].values())\n",
        "  return vec\n",
        "\n",
        "\n",
        "if True:  #inverse document frequency smooth (Best scenario)\n",
        "  def idf(bin_count, N):\n",
        "    vec = np.zeros((N, len(bin_count.keys())))\n",
        "    for i in range(N):\n",
        "      for j in range(len(bin_count.keys())):\n",
        "        vec[i][j] = np.log(N/(1+bin_count[list(bin_count.keys())[j]]))+1\n",
        "    return vec\n",
        "if False: #inverse document frequency\n",
        "  def idf(bin_count, N):\n",
        "    vec = np.zeros((N, len(bin_count.keys())))\n",
        "    for i in range(N):\n",
        "      for j in range(len(bin_count.keys())):\n",
        "        vec[i][j] = np.log(N/bin_count[list(bin_count.keys())[j]])\n",
        "    return vec\n",
        "if False: #probabilistic inverse document frequency\n",
        "  def idf(bin_count, N):\n",
        "    vec = np.zeros((N, len(bin_count.keys())))\n",
        "    for i in range(N):\n",
        "      for j in range(len(bin_count.keys())):\n",
        "        if (N-bin_count[list(bin_count.keys())[j]]) == 0:\n",
        "          vec[i][j] = 0\n",
        "        else:\n",
        "          vec[i][j] = np.log((N-bin_count[list(bin_count.keys())[j]])/(bin_count[list(bin_count.keys())[j]]))\n",
        "    return vec\n",
        "#if False: #For Term Frequency Relative Frequency (TF-RF)\n",
        "  #def RF(bin_count, N):\n",
        "    #With lemming --> classification --> https://medium.com/analytics-vidhya/how-good-or-bad-is-traditional-tf-idf-text-mining-technique-304aec920009\n",
        "\n",
        "\n",
        "def norm_l2(vec):\n",
        "  for i in range(vec.shape[0]):\n",
        "    vec[i,:] = vec[i,:]/np.linalg.norm(vec[i,:], ord=2)\n",
        "    #print(np.linalg.norm(vec[i,:]))   #YOU CAN CHECK NORM L2 == 1 HERE\n",
        "  return vec\n",
        "\n",
        "\n",
        "                       #main function\n",
        "def vectorizer(doc_lst, method='tf'): #doc_list should be preprocessed\n",
        "  if method=='tfidf':\n",
        "    docs = preprocess(doc_lst)\n",
        "    ult_dictionary, docu_counter, bin_count= count_words(docs)\n",
        "  else:\n",
        "    ult_dictionary, docu_counter, bin_count= count_words(doc_lst)\n",
        "  #print(sorted(ult_dictionary.items(), key=lambda x: x[1], reverse=True)) #for creating your own stop word\n",
        "  if method=='tf':\n",
        "    tf_vec = tf(docu_counter, ult_dictionary)\n",
        "    return norm_l2(tf_vec)\n",
        "  if method=='tfidf':\n",
        "    tf_vec = tf(docu_counter, ult_dictionary)\n",
        "    idf_vec = idf(bin_count, len(doc_lst))\n",
        "    return norm_l2((np.log(1+tf_vec))*idf_vec)"
      ],
      "execution_count": null,
      "outputs": []
    },
    {
      "cell_type": "markdown",
      "metadata": {
        "id": "M_PRKx94l7W7"
      },
      "source": [
        "# Simple tf:"
      ]
    },
    {
      "cell_type": "code",
      "metadata": {
        "id": "y4DiG0aJ9tyn"
      },
      "source": [
        "vec = vectorizer(docs)"
      ],
      "execution_count": null,
      "outputs": []
    },
    {
      "cell_type": "code",
      "metadata": {
        "colab": {
          "base_uri": "https://localhost:8080/",
          "height": 268
        },
        "id": "AAzdoUAjh_0b",
        "outputId": "95f9a899-634c-4890-d81e-7ee79322362a"
      },
      "source": [
        "import seaborn as sns; sns.set_theme()\n",
        "ax = sns.heatmap(ecu_cal(vec))"
      ],
      "execution_count": null,
      "outputs": [
        {
          "output_type": "display_data",
          "data": {
            "image/png": "[encoded data removed]",
            "text/plain": [
              "<Figure size 432x288 with 2 Axes>"
            ]
          },
          "metadata": {
            "tags": []
          }
        }
      ]
    },
    {
      "cell_type": "code",
      "metadata": {
        "colab": {
          "base_uri": "https://localhost:8080/",
          "height": 268
        },
        "id": "d4ylDm_elp6w",
        "outputId": "7bd12a4e-453b-47bf-ef0a-d73ee553e06c"
      },
      "source": [
        "import seaborn as sns; sns.set_theme()\n",
        "ax = sns.heatmap(cosi_cal(vec))"
      ],
      "execution_count": null,
      "outputs": [
        {
          "output_type": "display_data",
          "data": {
            "image/png": "[encoded data removed]",
            "text/plain": [
              "<Figure size 432x288 with 2 Axes>"
            ]
          },
          "metadata": {
            "tags": []
          }
        }
      ]
    },
    {
      "cell_type": "markdown",
      "metadata": {
        "id": "gaE9ZCTh6ixc"
      },
      "source": [
        "***Conclusion: these distance measures give similar results.***"
      ]
    },
    {
      "cell_type": "code",
      "metadata": {
        "colab": {
          "base_uri": "https://localhost:8080/"
        },
        "id": "3zNIst20qjks",
        "outputId": "9c588feb-9460-4b67-d8fb-71e2abd62421"
      },
      "source": [
        "get_score(vec)"
      ],
      "execution_count": null,
      "outputs": [
        {
          "output_type": "stream",
          "text": [
            "SCORE:  0.9222070615875735\n"
          ],
          "name": "stdout"
        }
      ]
    },
    {
      "cell_type": "markdown",
      "metadata": {
        "id": "cPY9c9N47ETv"
      },
      "source": [
        "***conclusion: Without preprocessing, the score is non-sense.***"
      ]
    },
    {
      "cell_type": "markdown",
      "metadata": {
        "id": "Kprw6-0w7U_F"
      },
      "source": [
        "# tfidf smooth (Best scenario) with preprocessing "
      ]
    },
    {
      "cell_type": "code",
      "metadata": {
        "id": "pFmvaH9T5kO3"
      },
      "source": [
        "new_vec = vectorizer(docs, 'tfidf')"
      ],
      "execution_count": null,
      "outputs": []
    },
    {
      "cell_type": "code",
      "metadata": {
        "colab": {
          "base_uri": "https://localhost:8080/",
          "height": 271
        },
        "id": "StBfKeH-7_i8",
        "outputId": "75ce1c2f-08fc-4ffa-a137-09d86e464162"
      },
      "source": [
        "import seaborn as sns; sns.set_theme()\n",
        "ax = sns.heatmap(ecu_cal(new_vec))"
      ],
      "execution_count": null,
      "outputs": [
        {
          "output_type": "display_data",
          "data": {
            "image/png": "[encoded data removed]",
            "text/plain": [
              "<Figure size 432x288 with 2 Axes>"
            ]
          },
          "metadata": {
            "tags": []
          }
        }
      ]
    },
    {
      "cell_type": "code",
      "metadata": {
        "colab": {
          "base_uri": "https://localhost:8080/",
          "height": 268
        },
        "id": "PiShg_S97_jW",
        "outputId": "f7072c0b-ecd3-4568-a31b-aaceccc511e0"
      },
      "source": [
        "import seaborn as sns; sns.set_theme()\n",
        "ax = sns.heatmap(cosi_cal(new_vec))"
      ],
      "execution_count": null,
      "outputs": [
        {
          "output_type": "display_data",
          "data": {
            "image/png": "[encoded data removed]",
            "text/plain": [
              "<Figure size 432x288 with 2 Axes>"
            ]
          },
          "metadata": {
            "tags": []
          }
        }
      ]
    },
    {
      "cell_type": "code",
      "metadata": {
        "colab": {
          "base_uri": "https://localhost:8080/"
        },
        "id": "u0EQ8leh7_jX",
        "outputId": "a6098c8f-d017-4754-94b7-abc38b3a72e5"
      },
      "source": [
        "get_score(new_vec)"
      ],
      "execution_count": null,
      "outputs": [
        {
          "output_type": "stream",
          "text": [
            "SCORE:  1.216430596980755\n"
          ],
          "name": "stdout"
        }
      ]
    },
    {
      "cell_type": "markdown",
      "metadata": {
        "id": "KVwytacm91EL"
      },
      "source": [
        "***Conclusion: After testing different scenarios, the smooth tfidf and preprocessing (stemming, cleaning, stopwords) we get good scores.***"
      ]
    }
  ]
}