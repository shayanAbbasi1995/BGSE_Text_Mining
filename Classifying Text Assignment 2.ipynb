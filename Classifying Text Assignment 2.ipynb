{
  "nbformat": 4,
  "nbformat_minor": 0,
  "metadata": {
    "kernelspec": {
      "display_name": "Python 3",
      "language": "python",
      "name": "python3"
    },
    "language_info": {
      "codemirror_mode": {
        "name": "ipython",
        "version": 3
      },
      "file_extension": ".py",
      "mimetype": "text/x-python",
      "name": "python",
      "nbconvert_exporter": "python",
      "pygments_lexer": "ipython3",
      "version": "3.8.2"
    },
    "name": "assignment.ipynb",
    "colab": {
      "name": "Copy of assignment.ipynb",
      "provenance": []
    }
  },
  "cells": [
    {
      "cell_type": "markdown",
      "metadata": {
        "id": "5AIkt93_FXRt"
      },
      "source": [
        "# Assignment: Classifying Text"
      ]
    },
    {
      "cell_type": "markdown",
      "metadata": {
        "ein.tags": "worksheet-0",
        "id": "Fz7atnqeFXRy"
      },
      "source": [
        "## Crosstraining\n",
        "\n",
        "Test how well your model, when trained on one dataset, performs on the other.\n",
        "\n",
        "The idea is to consider the situation where you have labels for one context, but not for the other. So you must train your model your \"source context\" and hope it generalizes well to your \"target context\", where you have no labels!\n",
        "\n",
        "Use the two datasets available in `sentiment/yelp.csv` (online restaurant reviews from Yelp) and `sentiment/movies.csv` (online movie reviews from IMDB). Both have a column called `text` with the text of the review and a column called `positive` which should be your outcome. No other variables are needed.\n",
        "\n",
        "To do this, make sure that you: \n",
        "\n",
        "1. You perform the \"fitting\" of both the vectorizer and the model on one of the sets\n",
        "2. Use the \"transform\" of the vectorizer to transform the second dataset into the same feature space (X) that your model was trained on. \n",
        "3. Use the \"predict\" of your model to see how well it did on the second dataset. \n",
        "\n",
        "How well does your model generalize from one to the other? What does this say about \"sentiment\"?"
      ]
    },
    {
      "cell_type": "markdown",
      "metadata": {
        "id": "m_ydOCtRFXRz"
      },
      "source": [
        "## Crosstraining 2\n",
        "\n",
        "Try to improve your transfer score using the unlabelled target data, P(X). What could you learn from the target context (without using the labels, only from the X) that might help you when training your model on your source context? How can you construct a feature space in your source context that generalizes better? "
      ]
    },
    {
      "cell_type": "markdown",
      "metadata": {
        "id": "Z60sxr2pODWM"
      },
      "source": [
        "\n",
        "\n",
        "> ***Crosstraining 1 & 2 just try to show improvement in score, the ultimate model is in the Ultimate model section ***\n",
        "\n"
      ]
    },
    {
      "cell_type": "markdown",
      "metadata": {
        "id": "qj_OxSAxuFbw"
      },
      "source": [
        "# Import Data & Cleaning"
      ]
    },
    {
      "cell_type": "markdown",
      "metadata": {
        "id": "UClxOo3zd7SI"
      },
      "source": [
        "## Import Data"
      ]
    },
    {
      "cell_type": "code",
      "metadata": {
        "colab": {
          "base_uri": "https://localhost:8080/"
        },
        "id": "-YIsk-d23cTG",
        "outputId": "3c928ee9-f943-4b7d-fef6-f3666dc35734"
      },
      "source": [
        "# Run this if running in Google Collab\n",
        "# Mount google drive if running from Google Collab\n",
        "from google.colab import drive\n",
        "drive.mount('/content/drive')\n",
        "\n",
        "# Set current directory if running from Google Collab\n",
        "\n",
        "import os\n",
        "os.chdir('/content/drive/My Drive/Colab Notebooks')# here use your path to current notebook"
      ],
      "execution_count": null,
      "outputs": [
        {
          "output_type": "stream",
          "text": [
            "Drive already mounted at /content/drive; to attempt to forcibly remount, call drive.mount(\"/content/drive\", force_remount=True).\n"
          ],
          "name": "stdout"
        }
      ]
    },
    {
      "cell_type": "code",
      "metadata": {
        "id": "BadU4zLu38lF"
      },
      "source": [
        "#import auxiliar functions\n",
        "import os,sys,inspect\n",
        "currentdir = os.path.dirname(os.path.abspath(inspect.getfile(inspect.currentframe())))\n",
        "parentdir = os.path.dirname(os.path.dirname(currentdir))\n",
        "sys.path.insert(1, parentdir)\n",
        "\n"
      ],
      "execution_count": null,
      "outputs": []
    },
    {
      "cell_type": "code",
      "metadata": {
        "id": "zFV7h_BtuUTe"
      },
      "source": [
        "import re\n",
        "import spacy\n",
        "import seaborn as sns\n",
        "import pandas as pd\n",
        "import numpy as np\n",
        "from nltk.stem.snowball import SnowballStemmer\n",
        "from sklearn.feature_extraction.text import CountVectorizer, TfidfVectorizer\n",
        "from sklearn.model_selection import cross_val_score\n",
        "from sklearn.naive_bayes import MultinomialNB\n",
        "from sklearn.linear_model import LogisticRegression\n",
        "import matplotlib.pyplot as plt\n",
        "# EXERCISE 4\n",
        "#\n",
        "# Prove Ng and Jordan right!!!\n",
        "\n",
        "yelps = pd.read_csv('yelps.csv').fillna(' ')\n",
        "imdb = pd.read_csv('movies.csv').fillna(' ')"
      ],
      "execution_count": null,
      "outputs": []
    },
    {
      "cell_type": "markdown",
      "metadata": {
        "id": "Lf2QhoLcKMLh"
      },
      "source": [
        "## Fixing typos in Positive"
      ]
    },
    {
      "cell_type": "code",
      "metadata": {
        "colab": {
          "base_uri": "https://localhost:8080/",
          "height": 349
        },
        "id": "BvoMfor1I4xz",
        "outputId": "7cbdfeeb-d7a0-4d97-ddcd-47cb3a25af34"
      },
      "source": [
        "sns.countplot(yelps.positive);\n",
        "plt.title('Yelps review distribution');"
      ],
      "execution_count": null,
      "outputs": [
        {
          "output_type": "stream",
          "text": [
            "/usr/local/lib/python3.7/dist-packages/seaborn/_decorators.py:43: FutureWarning: Pass the following variable as a keyword arg: x. From version 0.12, the only valid positional argument will be `data`, and passing other arguments without an explicit keyword will result in an error or misinterpretation.\n",
            "  FutureWarning\n"
          ],
          "name": "stderr"
        },
        {
          "output_type": "display_data",
          "data": {
            "image/png": "[encoded data removed]",
            "text/plain": [
              "<Figure size 432x288 with 1 Axes>"
            ]
          },
          "metadata": {
            "tags": [],
            "needs_background": "light"
          }
        }
      ]
    },
    {
      "cell_type": "code",
      "metadata": {
        "id": "0rDAkluVJPuo"
      },
      "source": [
        "yelps.positive[yelps.positive == 'positive'] = 'True'"
      ],
      "execution_count": null,
      "outputs": []
    },
    {
      "cell_type": "code",
      "metadata": {
        "colab": {
          "base_uri": "https://localhost:8080/",
          "height": 349
        },
        "id": "H1HwYUqKJ7td",
        "outputId": "7b6c0149-5554-4b6b-e505-c9b4fd6d11c7"
      },
      "source": [
        "sns.countplot(imdb.positive);\n",
        "plt.title('Imdb review distribution');"
      ],
      "execution_count": null,
      "outputs": [
        {
          "output_type": "stream",
          "text": [
            "/usr/local/lib/python3.7/dist-packages/seaborn/_decorators.py:43: FutureWarning: Pass the following variable as a keyword arg: x. From version 0.12, the only valid positional argument will be `data`, and passing other arguments without an explicit keyword will result in an error or misinterpretation.\n",
            "  FutureWarning\n"
          ],
          "name": "stderr"
        },
        {
          "output_type": "display_data",
          "data": {
            "image/png": "[encoded data removed]",
            "text/plain": [
              "<Figure size 432x288 with 1 Axes>"
            ]
          },
          "metadata": {
            "tags": [],
            "needs_background": "light"
          }
        }
      ]
    },
    {
      "cell_type": "code",
      "metadata": {
        "id": "x49m08pqKCSM"
      },
      "source": [
        "imdb.positive[imdb.positive == 'positive'] = 'True'"
      ],
      "execution_count": null,
      "outputs": []
    },
    {
      "cell_type": "markdown",
      "metadata": {
        "id": "zxSQbUJVKq71"
      },
      "source": [
        "Hpefully, no imbalance.\n",
        "Some values in Positive column were 'positive' instead of being 'True'."
      ]
    },
    {
      "cell_type": "markdown",
      "metadata": {
        "id": "hDFVwW3nGKVj"
      },
      "source": [
        "# Crosstraining1: Simple Vectorizing and logestic regression"
      ]
    },
    {
      "cell_type": "code",
      "metadata": {
        "colab": {
          "base_uri": "https://localhost:8080/"
        },
        "id": "NDeu7SAVGNAT",
        "outputId": "b2ecda1f-527d-4e92-a51d-4dfc1a92003d"
      },
      "source": [
        "#from sklearn.feature_extraction.text import CountVectorizer\n",
        "from sklearn.feature_extraction.text import TfidfTransformer\n",
        "#from sklearn.linear_model import SGDClassifier\n",
        "from sklearn.model_selection import GridSearchCV\n",
        "from sklearn.pipeline import Pipeline\n",
        "# License: BSD 3 clause\n",
        "#from pprint import pprint\n",
        "#from time import time\n",
        "#import logging\n",
        "import nltk\n",
        "nltk.download('wordnet')\n",
        "from nltk.stem import WordNetLemmatizer\n",
        "import re\n",
        "\n",
        "#lemmitizing with spacy takes to long, so we just do:\n",
        "def preprocess(X):\n",
        "  documents = []\n",
        "\n",
        "  stemmer = WordNetLemmatizer()\n",
        "  for sen in range(0, len(X)):\n",
        "    document = re.sub(r'\\W', ' ', str(X[sen])) # Remove all the special characters\n",
        "    document = re.sub(r'\\s+[a-zA-Z]\\s+', ' ', document) # remove all single characters\n",
        "    document = re.sub(r'\\^[a-zA-Z]\\s+', ' ', document)  # Remove single characters from the start\n",
        "    document = re.sub(r'\\s+', ' ', document, flags=re.I) # Substituting multiple spaces with single space\n",
        "    document = re.sub(r'^b\\s+', '', document) # Removing prefixed 'b'\n",
        "    document = document.lower() # Converting to Lowercase\n",
        "    document = document.split() # Lemmatization\n",
        "    document = [stemmer.lemmatize(word) for word in document]\n",
        "    document = ' '.join(document)\n",
        "    document = re.sub(r'\\b\\d+(?:\\.\\d+)?\\s+', '', document) #Removes numbers and words containing numbers\n",
        "    documents.append(document)\n",
        "  return documents\n",
        "corpus = preprocess(yelps.text)\n",
        "corpus_test = preprocess(imdb.text)"
      ],
      "execution_count": null,
      "outputs": [
        {
          "output_type": "stream",
          "text": [
            "[nltk_data] Downloading package wordnet to /root/nltk_data...\n",
            "[nltk_data]   Package wordnet is already up-to-date!\n",
            "[nltk_data] Downloading package wordnet to /root/nltk_data...\n",
            "[nltk_data]   Package wordnet is already up-to-date!\n"
          ],
          "name": "stdout"
        }
      ]
    },
    {
      "cell_type": "code",
      "metadata": {
        "id": "0jGJTpu4V7tc"
      },
      "source": [
        "vectorizer = TfidfVectorizer(min_df=2,\n",
        "                            max_df=.8,\n",
        "                            stop_words='english',\n",
        "                            use_idf=True,\n",
        "                            norm='l2')\n",
        "\n",
        "v = vectorizer.fit_transform(corpus)"
      ],
      "execution_count": null,
      "outputs": []
    },
    {
      "cell_type": "markdown",
      "metadata": {
        "id": "tmTmu6vrFZjt"
      },
      "source": [
        "We see that words like food, resturant, order are yelps corpus specific and won't be handy in the imdb corpus transformation."
      ]
    },
    {
      "cell_type": "code",
      "metadata": {
        "colab": {
          "base_uri": "https://localhost:8080/"
        },
        "id": "-m_dBSEYYASi",
        "outputId": "2a43e942-c613-4f86-a047-207e1df69c83"
      },
      "source": [
        "y = yelps.positive \n",
        "model = LogisticRegression().fit(v, y)\n",
        "score = model.score(v, y)\n",
        "print(f'score for train data: {score}')"
      ],
      "execution_count": null,
      "outputs": [
        {
          "output_type": "stream",
          "text": [
            "score for train data: 0.9673209803705889\n"
          ],
          "name": "stdout"
        }
      ]
    },
    {
      "cell_type": "code",
      "metadata": {
        "colab": {
          "base_uri": "https://localhost:8080/"
        },
        "id": "UC-jH9AwafUG",
        "outputId": "3e73b495-fce7-4fb7-dbaf-c1f97448e9f7"
      },
      "source": [
        "v_test = vectorizer.transform(corpus_test)\n",
        "y_test = imdb.positive \n",
        "score = model.score(v_test, y_test)\n",
        "print(f'score for test data: {score}')"
      ],
      "execution_count": null,
      "outputs": [
        {
          "output_type": "stream",
          "text": [
            "score for test data: 0.7971921684698918\n"
          ],
          "name": "stdout"
        }
      ]
    },
    {
      "cell_type": "markdown",
      "metadata": {
        "id": "geXvh8ERhXNV"
      },
      "source": [
        "***Conclusion: Obviously, jumping into making a vectorizer and running a logestic regression will end up better fit (Probably overfit) on the train data and underpreform on the test data. We need to do the following as a better approach: ***\n",
        "\n",
        "1.   We need to find common words to train our model since we have datasets that are in different areas. (Done by passing the vectorizer.vocabulary_)\n",
        "2.   We need to try different vectorizers and classifiers. (Making pipelines)\n",
        "3.   We need some hyperparameter tuining. (Using gridsearchcv on the pipelines)"
      ]
    },
    {
      "cell_type": "markdown",
      "metadata": {
        "id": "2vfeLPMs_uYp"
      },
      "source": [
        "#Crosstraining2: Using best model and transform by test data"
      ]
    },
    {
      "cell_type": "code",
      "metadata": {
        "id": "GT4PWh8cHACJ"
      },
      "source": [
        "vocab1 = vectorizer.vocabulary_\n",
        "vectorizer_test = TfidfVectorizer(min_df=2,\n",
        "                            max_df=0.8,\n",
        "                            stop_words='english',\n",
        "                            use_idf=True,\n",
        "                            norm='l2',\n",
        "                            vocabulary = vocab1)\n",
        "v_test = vectorizer_test.fit_transform(corpus_test)\n",
        "vocab2 = vectorizer_test.vocabulary_\n"
      ],
      "execution_count": null,
      "outputs": []
    },
    {
      "cell_type": "code",
      "metadata": {
        "colab": {
          "base_uri": "https://localhost:8080/"
        },
        "id": "NOPcytMnJwzT",
        "outputId": "e29b9a26-34a8-4325-e418-883c6239d5d5"
      },
      "source": [
        "score = model.score(v_test, y_test)\n",
        "print(f'score for test data: {score}')"
      ],
      "execution_count": null,
      "outputs": [
        {
          "output_type": "stream",
          "text": [
            "score for test data: 0.7641941483510989\n"
          ],
          "name": "stdout"
        }
      ]
    },
    {
      "cell_type": "markdown",
      "metadata": {
        "id": "R-2cwrprKqEn"
      },
      "source": [
        "Since we transformed test data using vocabulary fron train data, the score did not improve. The best way to improve this is to tokenize(vectorize) using both datasets and then train the model on train data."
      ]
    },
    {
      "cell_type": "code",
      "metadata": {
        "colab": {
          "base_uri": "https://localhost:8080/"
        },
        "id": "0_itU0T1LDsO",
        "outputId": "70370085-fca9-4703-9764-1d3a142db264"
      },
      "source": [
        "ult_vectorizer = TfidfVectorizer(min_df=2,\n",
        "                            max_df=0.8,\n",
        "                            stop_words='english',\n",
        "                            use_idf=True,\n",
        "                            norm='l2',)\n",
        "ult_corpus = corpus+corpus_test\n",
        "ult_vectorizer.fit(ult_corpus)    #Unsupervise vectorizer for both data sets\n",
        "v_test_ult = ult_vectorizer.transform(corpus_test)\n",
        "v_train_ult = ult_vectorizer.transform(corpus)\n",
        "model_ult = LogisticRegression().fit(v_train_ult, y) # supervised model just on the training data\n",
        "score = model_ult.score(v_train_ult, y)\n",
        "print(f'score for train data: {score}')\n",
        "score = model_ult.score(v_test_ult, y_test) #improved score\n",
        "print(f'score for test data: {score}')"
      ],
      "execution_count": null,
      "outputs": [
        {
          "output_type": "stream",
          "text": [
            "score for train data: 0.9669809905702829\n",
            "score for test data: 0.7957522548647081\n"
          ],
          "name": "stdout"
        }
      ]
    },
    {
      "cell_type": "markdown",
      "metadata": {
        "id": "ia47y2h7OtvD"
      },
      "source": [
        "We see that under Ceteris paribus score for test data improves only when we combine two data sets for vectorizing."
      ]
    },
    {
      "cell_type": "markdown",
      "metadata": {
        "id": "7ZRUdwacPNoI"
      },
      "source": [
        "# Ultimate Model"
      ]
    },
    {
      "cell_type": "markdown",
      "metadata": {
        "id": "hq_sCHDsPQDI"
      },
      "source": [
        "We can test different feature extraction methods and different classifiers to improve fitting and we can tune hyperparameters. Since running pipelines with different classifiers takes a lot of time, we just tune hyperparameters for Tfidfvectorizer and LogesticRegression here. "
      ]
    },
    {
      "cell_type": "code",
      "metadata": {
        "colab": {
          "base_uri": "https://localhost:8080/"
        },
        "id": "gYR2A6spPyox",
        "outputId": "56724d43-5c7d-4d00-9c1e-fb0854138da7"
      },
      "source": [
        "# Pipeline & Gridsearch setup\n",
        "# TFIDF pipeline setup\n",
        "tvc_pipe = Pipeline([\n",
        " ('tvec', TfidfVectorizer()),\n",
        " ('lr', LogisticRegression())\n",
        "])\n",
        "\n",
        "# Setting params for TFIDF Vectorizer gridsearch\n",
        "tf_params = {\n",
        " 'tvec__min_df':[10],\n",
        " 'tvec__max_df': [0.8],\n",
        " 'tvec__norm': ['l2'],\n",
        " 'tvec__use_idf': [True],\n",
        " 'lr__penalty': ['l2'],\n",
        " 'lr__solver': ['liblinear']\n",
        "}\n",
        "\n",
        "# Setting up GridSearch for TFIDFVectorizer\n",
        "tvc_gs = GridSearchCV(tvc_pipe, param_grid=tf_params, cv = 5, verbose =1, n_jobs = 100)\n",
        "tvc_gs.fit(corpus, y)\n",
        "# Scoring Training data on TFIDFVectorizer\n",
        "print(f'score for train data: {tvc_gs.score(corpus, y)}')\n",
        "# Scoring Test data on TFIDFVectorizer\n",
        "print(f'score for test data: {tvc_gs.score(corpus_test, y_test)}')"
      ],
      "execution_count": null,
      "outputs": [
        {
          "output_type": "stream",
          "text": [
            "Fitting 5 folds for each of 20 candidates, totalling 100 fits\n"
          ],
          "name": "stdout"
        },
        {
          "output_type": "stream",
          "text": [
            "[Parallel(n_jobs=100)]: Using backend LokyBackend with 100 concurrent workers.\n",
            "[Parallel(n_jobs=100)]: Done   2 out of 100 | elapsed:   52.0s remaining: 42.5min\n",
            "/usr/local/lib/python3.7/dist-packages/joblib/externals/loky/process_executor.py:691: UserWarning: A worker stopped while some jobs were given to the executor. This can be caused by a too short worker timeout or by a memory leak.\n",
            "  \"timeout or by a memory leak.\", UserWarning\n",
            "[Parallel(n_jobs=100)]: Done 100 out of 100 | elapsed: 21.8min finished\n"
          ],
          "name": "stderr"
        },
        {
          "output_type": "stream",
          "text": [
            "score for train data: 0.9713108606741798\n",
            "score for test data: 0.800811951282923\n"
          ],
          "name": "stdout"
        }
      ]
    },
    {
      "cell_type": "code",
      "metadata": {
        "colab": {
          "base_uri": "https://localhost:8080/"
        },
        "id": "pjDrm2ZCXOsr",
        "outputId": "34226e47-8b74-4b16-fffe-34c6f4630893"
      },
      "source": [
        "tvc_gs.best_estimator_"
      ],
      "execution_count": null,
      "outputs": [
        {
          "output_type": "execute_result",
          "data": {
            "text/plain": [
              "Pipeline(memory=None,\n",
              "         steps=[('tvec',\n",
              "                 TfidfVectorizer(analyzer='word', binary=False,\n",
              "                                 decode_error='strict',\n",
              "                                 dtype=<class 'numpy.float64'>,\n",
              "                                 encoding='utf-8', input='content',\n",
              "                                 lowercase=True, max_df=0.8, max_features=None,\n",
              "                                 min_df=10, ngram_range=(1, 1), norm='l2',\n",
              "                                 preprocessor=None, smooth_idf=True,\n",
              "                                 stop_words=None, strip_accents=None,\n",
              "                                 sublinear_tf=False,\n",
              "                                 token_pattern='(?u)\\\\b\\\\w\\\\w+\\\\b',\n",
              "                                 tokenizer=None, use_idf=True,\n",
              "                                 vocabulary=None)),\n",
              "                ('lr',\n",
              "                 LogisticRegression(C=1.0, class_weight=None, dual=False,\n",
              "                                    fit_intercept=True, intercept_scaling=1,\n",
              "                                    l1_ratio=None, max_iter=100,\n",
              "                                    multi_class='auto', n_jobs=None,\n",
              "                                    penalty='l2', random_state=None,\n",
              "                                    solver='liblinear', tol=0.0001, verbose=0,\n",
              "                                    warm_start=False))],\n",
              "         verbose=False)"
            ]
          },
          "metadata": {
            "tags": []
          },
          "execution_count": 142
        }
      ]
    },
    {
      "cell_type": "markdown",
      "metadata": {
        "id": "9dcgltXJYRfr"
      },
      "source": [
        "Since the fits increase exponentially (2^n), I have used Gridsearchcv with 5 folds multiple times and each time chosed the best params, however, I know that this does not cover all the possible fits and thus may not contain the optimal fit:\n",
        "\n",
        "***1st:*** test score=0.8007\n",
        "\n",
        " 'tvec__min_df':[0.05, 0.01, 2, 10],\n",
        "\n",
        " 'tvec__max_df': [0.9, 0.8],\n",
        "\n",
        "***2nd:*** test score=0.8007\n",
        "\n",
        " 'tvec__min_df':[10,20,50],\n",
        "\n",
        " 'tvec__max_df': [0.8,0.85,0.75],\n",
        "\n",
        " ***3ed:*** test score=0.8007\n",
        "\n",
        "  'tvec__norm': ['l1', 'l2'],\n",
        "\n",
        " 'tvec__use_idf': [True, False],\n",
        "\n",
        " ***4th:*** test score=0.8008\n",
        "\n",
        "  'lr__penalty': ['l1', 'l2', 'elasticnet', 'none'],\n",
        "\n",
        "\n",
        " 'lr__solver': ['newton-cg', 'lbfgs', 'liblinear', 'sag', 'saga']\n"
      ]
    },
    {
      "cell_type": "markdown",
      "metadata": {
        "id": "u_tf30QAoZba"
      },
      "source": [
        "It seems that the score can change only if we change the classifier, preprocessing, and tokenizer."
      ]
    }
  ]
}